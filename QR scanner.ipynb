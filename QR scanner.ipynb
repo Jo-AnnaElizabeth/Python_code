{
 "cells": [
  {
   "cell_type": "code",
   "execution_count": null,
   "id": "d7040a0a",
   "metadata": {},
   "outputs": [],
   "source": [
    "!pip install Pillow\n",
    "!pip install opencv-python\n",
    "!pip install pyzbar\n",
    "!pip install qrcode"
   ]
  },
  {
   "cell_type": "code",
   "execution_count": null,
   "id": "a4ced951",
   "metadata": {},
   "outputs": [],
   "source": [
    " import cv2\n",
    "import qrcode\n",
    "from pyzbar import pyzbar"
   ]
  },
  {
   "cell_type": "markdown",
   "id": "8c562bb8",
   "metadata": {},
   "source": [
    "### To generate a QR code"
   ]
  },
  {
   "cell_type": "code",
   "execution_count": null,
   "id": "a1cd12a7",
   "metadata": {},
   "outputs": [],
   "source": [
    "qr = qrcode.QRCode(\n",
    "    version=1,\n",
    "    error_correction=qrcode.constants.ERROR_CORRECT_L,\n",
    "    box_size=5,\n",
    "    border=4,\n",
    ")\n",
    "qr.add_data(\"https://www.larsentoubro.com/corporate/about-lt-group/facilities/india/chennai-tamil-nadu/\")\n",
    "qr.make(fit=True)\n",
    "\n",
    "img = qr.make_image(fill_color=\"black\", back_color=\"pink\")\n",
    "img.save(\"QRcode.png\")\n",
    "img"
   ]
  },
  {
   "cell_type": "markdown",
   "id": "c0677289",
   "metadata": {},
   "source": [
    "### Decoding Function"
   ]
  },
  {
   "cell_type": "code",
   "execution_count": null,
   "id": "6f89b686",
   "metadata": {},
   "outputs": [],
   "source": [
    "def read_barcodes(frame):\n",
    "    barcodes = pyzbar.decode(frame)\n",
    "    for barcode in barcodes:\n",
    "        x, y , w, h = barcode.rect\n",
    "        \n",
    "        barcode_info = barcode.data.decode('utf-8')\n",
    "        cv2.rectangle(frame, (x, y),(x+w, y+h), (0, 255, 0), 2)\n",
    "        \n",
    "        \n",
    "        cv2.putText(frame, barcode_info, (x + 6, y - 6), cv2.FONT_HERSHEY_SIMPLEX,0.8,(255,0,0), 2)\n",
    "        print(\"code: \"+barcode_info)\n",
    "        \n",
    "        with open(\"barcode_result.txt\", mode ='w') as file:\n",
    "            file.write(\"Recognized Barcode:\" + barcode_info)\n",
    "    return frame\n",
    "\n",
    "\n",
    "def main():\n",
    " \n",
    "    camera = cv2.VideoCapture(0)\n",
    "    ret, frame = camera.read()\n",
    "  \n",
    "    while ret:\n",
    "        ret, frame = camera.read()\n",
    "        frame = read_barcodes(frame)\n",
    "        cv2.imshow('QR code reader', frame)\n",
    "        if cv2.waitKey(25) & 0xFF == ord('q'):\n",
    "            break\n",
    "\n",
    "\n",
    "    camera.release()\n",
    "    cv2.destroyAllWindows()\n",
    "if __name__ == '__main__':\n",
    "    main()"
   ]
  },
  {
   "cell_type": "markdown",
   "id": "f540d80e",
   "metadata": {},
   "source": [
    "# Show link"
   ]
  },
  {
   "cell_type": "code",
   "execution_count": null,
   "id": "fb844737",
   "metadata": {},
   "outputs": [],
   "source": [
    "img=cv2.imread(\"QRcode.png\")\n",
    "det=cv2.QRCodeDetector()\n",
    "val, pts, st_code=det.detectAndDecode(img)\n",
    "print(val)"
   ]
  },
  {
   "cell_type": "markdown",
   "id": "3d9af3d5",
   "metadata": {},
   "source": [
    "# Advanced scanner"
   ]
  },
  {
   "cell_type": "code",
   "execution_count": null,
   "id": "42f9aab2",
   "metadata": {},
   "outputs": [],
   "source": [
    "import cv2\n",
    "import webbrowser\n",
    "# initalize the cam\n",
    "cap = cv2.VideoCapture(0)\n",
    "# initialize the cv2 QRCode detector\n",
    "detector = cv2.QRCodeDetector()\n",
    "while True:\n",
    "    _, img = cap.read()\n",
    "    # detect and decode\n",
    "    data, bbox, _ = detector.detectAndDecode(img)\n",
    "    # check if there is a QRCode in the image\n",
    "    if data:\n",
    "        a=data\n",
    "        break\n",
    "    # display the result\n",
    "    cv2.imshow(\"QRCODEscanner\", img)    \n",
    "    if cv2.waitKey(1) == ord(\"q\"):\n",
    "        break\n",
    "\n",
    "b=webbrowser.open(str(a))\n",
    "cap.release()\n",
    "cv2.destroyAllWindows()"
   ]
  },
  {
   "cell_type": "code",
   "execution_count": null,
   "id": "5e4d06d5",
   "metadata": {},
   "outputs": [],
   "source": []
  }
 ],
 "metadata": {
  "kernelspec": {
   "display_name": "Python 3",
   "language": "python",
   "name": "python3"
  },
  "language_info": {
   "codemirror_mode": {
    "name": "ipython",
    "version": 3
   },
   "file_extension": ".py",
   "mimetype": "text/x-python",
   "name": "python",
   "nbconvert_exporter": "python",
   "pygments_lexer": "ipython3",
   "version": "3.8.8"
  }
 },
 "nbformat": 4,
 "nbformat_minor": 5
}
